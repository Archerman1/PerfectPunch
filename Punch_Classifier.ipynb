{
  "nbformat": 4,
  "nbformat_minor": 0,
  "metadata": {
    "colab": {
      "provenance": []
    },
    "kernelspec": {
      "name": "python3",
      "display_name": "Python 3"
    },
    "language_info": {
      "name": "python"
    }
  },
  "cells": [
    {
      "cell_type": "code",
      "execution_count": 26,
      "metadata": {
        "colab": {
          "base_uri": "https://localhost:8080/"
        },
        "id": "L04amSVBk8C5",
        "outputId": "5d685c63-8cfa-4477-8018-029e7720e9ac"
      },
      "outputs": [
        {
          "output_type": "stream",
          "name": "stdout",
          "text": [
            "[('uppercut', [255, 252, 248, 255, 304, 271, 249, 181, 225, 223, 221, 222, 342, 338, 335, 310]), ('uppercut', [177, 166, 170, 169, 329, 298, 267, 209, 220, 208, 202, 198, 323, 321, 318, 297]), ('hook', [378, 329, 291, 259, 221, 203, 193, 194, 452, 437, 413, 366, 284, 272, 256, 240]), ('uppercut', [399, 393, 391, 386, 253, 219, 216, 150, 413, 414, 415, 414, 330, 308, 303, 278]), ('hook', [218, 218, 218, 217, 273, 274, 276, 276, 219, 219, 219, 218, 327, 327, 329, 329])]\n"
          ]
        }
      ],
      "source": [
        "filename = 'punchResults.txt'\n",
        "def read_file_to_array(filename):\n",
        "    with open(filename, 'r') as file:\n",
        "        lines = [line.strip() for line in file]\n",
        "    return lines\n",
        "\n",
        "array_of_lines = read_file_to_array(filename)\n",
        "db = []\n",
        "for line in array_of_lines:\n",
        "    row = line.split('|')\n",
        "    temp = []\n",
        "    for s in row[1][1:-1].split(' '):\n",
        "      if len(s) > 0:\n",
        "        temp.append(int(s))\n",
        "\n",
        "    for s in row[2][1:-1].split(' '):\n",
        "      if len(s) > 0:\n",
        "        temp.append(int(s))\n",
        "\n",
        "    for s in row[3][1:-1].split(' '):\n",
        "      if len(s) > 0:\n",
        "        temp.append(int(s))\n",
        "\n",
        "    for s in row[4][1:-1].split(' '):\n",
        "      if len(s) > 0:\n",
        "        temp.append(int(s))\n",
        "    if len(temp) == 16:\n",
        "      db.append((row[0], temp))\n",
        "print(db[0:5])\n",
        "\n"
      ]
    },
    {
      "cell_type": "code",
      "source": [
        "import torch\n",
        "import torch.nn as nn\n",
        "import torch.optim as optim\n",
        "from torch.utils.data import Dataset, DataLoader\n",
        "\n",
        "class PunchDataset(Dataset):\n",
        "    def __init__(self, data):\n",
        "        self.data = data\n",
        "        self.classes = list(set(item[0] for item in data))\n",
        "        print(len(self.classes))\n",
        "        self.class_to_idx = {cls: idx for idx, cls in enumerate(self.classes)}\n",
        "\n",
        "    def __len__(self):\n",
        "        return len(self.data)\n",
        "\n",
        "    def __getitem__(self, idx):\n",
        "        punch_type, features = self.data[idx]\n",
        "        label = self.class_to_idx[punch_type]\n",
        "        return torch.tensor(features, dtype=torch.float32), torch.tensor(label, dtype=torch.long)\n",
        "\n",
        "class PunchClassifier(nn.Module):\n",
        "    def __init__(self, input_size, hidden_size, num_classes):\n",
        "        super(PunchClassifier, self).__init__()\n",
        "        self.fc1 = nn.Linear(input_size, hidden_size)\n",
        "        self.relu = nn.ReLU()\n",
        "        self.fc2 = nn.Linear(hidden_size, num_classes)\n",
        "\n",
        "    def forward(self, x):\n",
        "        x = self.fc1(x)\n",
        "        x = self.relu(x)\n",
        "        x = self.fc2(x)\n",
        "        return x\n",
        "\n",
        "data = db\n",
        "\n",
        "dataset = PunchDataset(data)\n",
        "dataloader = DataLoader(dataset, batch_size=2, shuffle=True)\n",
        "\n",
        "input_size = 16\n",
        "hidden_size = 32\n",
        "num_classes = len(dataset.classes)\n",
        "model = PunchClassifier(input_size, hidden_size, num_classes)\n",
        "\n",
        "criterion = nn.CrossEntropyLoss()\n",
        "optimizer = optim.Adam(model.parameters(), lr=0.001)\n",
        "\n",
        "num_epochs = 100\n",
        "for epoch in range(num_epochs):\n",
        "    for inputs, labels in dataloader:\n",
        "        optimizer.zero_grad()\n",
        "        outputs = model(inputs)\n",
        "        loss = criterion(outputs, labels)\n",
        "        loss.backward()\n",
        "        optimizer.step()\n",
        "\n",
        "    print(f'Epoch [{epoch+1}/{num_epochs}], Loss: {loss.item():.4f}')\n",
        "\n",
        "model.eval()\n",
        "with torch.no_grad():\n",
        "    correct = 0\n",
        "    total = 0\n",
        "    for inputs, labels in dataloader:\n",
        "        outputs = model(inputs)\n",
        "        _, predicted = torch.max(outputs.data, 1)\n",
        "        total += labels.size(0)\n",
        "        correct += (predicted == labels).sum().item()\n",
        "\n",
        "    print(f'Accuracy: {100 * correct / total:.2f}%')\n",
        "\n",
        "sample = torch.tensor([255, 252, 248, 255, 304, 271, 249, 181, 225, 223, 221, 222, 342, 338, 335, 310], dtype=torch.float32)\n",
        "prediction = model(sample)\n",
        "predicted_class = dataset.classes[torch.argmax(prediction).item()]\n",
        "print(f'Predicted punch type: {predicted_class}')"
      ],
      "metadata": {
        "id": "Xv3B32R5rHIj"
      },
      "execution_count": null,
      "outputs": []
    },
    {
      "cell_type": "code",
      "source": [
        "import random\n",
        "\n",
        "for i in range(len(db)):\n",
        "  index = random.randint(0, len(db)-1)\n",
        "  temp = db[index][1]\n",
        "  sample = torch.tensor(temp, dtype=torch.float32)\n",
        "  prediction = model(sample)\n",
        "  predicted_class = dataset.classes[torch.argmax(prediction).item()]\n",
        "  if predicted_class != db[index][0]:\n",
        "    print(\"fail\", db[index][0])\n",
        "  # print(f'Predicted punch type: {predicted_class}')\n",
        "  # print(f'Real punch type: {db[index][0]}')"
      ],
      "metadata": {
        "colab": {
          "base_uri": "https://localhost:8080/"
        },
        "id": "LcFiMRnsuvuK",
        "outputId": "c4dc054d-1e9e-4914-c37d-c43c178b987f"
      },
      "execution_count": 55,
      "outputs": [
        {
          "output_type": "stream",
          "name": "stdout",
          "text": [
            "fail jab\n",
            "fail hook\n",
            "fail uppercut\n",
            "fail hook\n",
            "fail uppercut\n",
            "fail jab\n",
            "fail jab\n",
            "fail jab\n",
            "fail hook\n",
            "fail jab\n",
            "fail jab\n",
            "fail jab\n"
          ]
        }
      ]
    },
    {
      "cell_type": "code",
      "source": [
        "\n",
        "torch.save(model.state_dict(), 'punch_classifier.pth')"
      ],
      "metadata": {
        "id": "6SLZdVyHvRjU"
      },
      "execution_count": 58,
      "outputs": []
    },
    {
      "cell_type": "code",
      "source": [
        "\n",
        "loaded_model = PunchClassifier(input_size, hidden_size, num_classes)\n",
        "loaded_model.load_state_dict(torch.load('punch_classifier.pth'))\n",
        "loaded_model.eval()"
      ],
      "metadata": {
        "colab": {
          "base_uri": "https://localhost:8080/"
        },
        "id": "w9yS9FTzwPAT",
        "outputId": "47b064f3-f2b6-4de5-82ad-f00fac6a37b2"
      },
      "execution_count": 90,
      "outputs": [
        {
          "output_type": "stream",
          "name": "stderr",
          "text": [
            "<ipython-input-90-b91b74c6e21c>:3: FutureWarning: You are using `torch.load` with `weights_only=False` (the current default value), which uses the default pickle module implicitly. It is possible to construct malicious pickle data which will execute arbitrary code during unpickling (See https://github.com/pytorch/pytorch/blob/main/SECURITY.md#untrusted-models for more details). In a future release, the default value for `weights_only` will be flipped to `True`. This limits the functions that could be executed during unpickling. Arbitrary objects will no longer be allowed to be loaded via this mode unless they are explicitly allowlisted by the user via `torch.serialization.add_safe_globals`. We recommend you start setting `weights_only=True` for any use case where you don't have full control of the loaded file. Please open an issue on GitHub for any issues related to this experimental feature.\n",
            "  loaded_model.load_state_dict(torch.load('punch_classifier.pth'))\n"
          ]
        },
        {
          "output_type": "execute_result",
          "data": {
            "text/plain": [
              "PunchClassifier(\n",
              "  (fc1): Linear(in_features=16, out_features=32, bias=True)\n",
              "  (relu): ReLU()\n",
              "  (fc2): Linear(in_features=32, out_features=3, bias=True)\n",
              ")"
            ]
          },
          "metadata": {},
          "execution_count": 90
        }
      ]
    },
    {
      "cell_type": "code",
      "source": [
        "print(input_size, hidden_size, num_classes)"
      ],
      "metadata": {
        "colab": {
          "base_uri": "https://localhost:8080/"
        },
        "id": "gcb3cGI5ybXo",
        "outputId": "4661c660-8fe1-44b9-f642-637677c12262"
      },
      "execution_count": 93,
      "outputs": [
        {
          "output_type": "stream",
          "name": "stdout",
          "text": [
            "16 32 3\n"
          ]
        }
      ]
    },
    {
      "cell_type": "code",
      "source": [
        "for i in range(len(db)):\n",
        "  index = random.randint(0, len(db)-1)\n",
        "  temp = db[index][1]\n",
        "  sample = torch.tensor(temp, dtype=torch.float32)\n",
        "  prediction = loaded_model(sample)\n",
        "  predicted_class = dataset.classes[torch.argmax(prediction).item()]\n",
        "  if predicted_class != db[index][0]:\n",
        "    print(\"fail\", db[index][0])"
      ],
      "metadata": {
        "colab": {
          "base_uri": "https://localhost:8080/"
        },
        "id": "6CyqOwYbwRpf",
        "outputId": "1b439f12-f95e-4095-8744-13f5e965b0eb"
      },
      "execution_count": 92,
      "outputs": [
        {
          "output_type": "stream",
          "name": "stdout",
          "text": [
            "fail jab\n",
            "fail jab\n",
            "fail hook\n",
            "fail uppercut\n",
            "fail hook\n",
            "fail uppercut\n",
            "fail jab\n",
            "fail uppercut\n",
            "fail jab\n",
            "fail hook\n",
            "fail hook\n",
            "fail hook\n",
            "fail jab\n",
            "fail hook\n",
            "fail hook\n",
            "fail jab\n",
            "fail jab\n",
            "fail jab\n",
            "fail uppercut\n",
            "fail uppercut\n",
            "fail hook\n",
            "fail jab\n"
          ]
        }
      ]
    },
    {
      "cell_type": "code",
      "source": [
        "print(dataset.classes)"
      ],
      "metadata": {
        "colab": {
          "base_uri": "https://localhost:8080/"
        },
        "id": "Iwu8XIT30a54",
        "outputId": "a1a1f3c6-60ad-4981-bc11-68834dc971ab"
      },
      "execution_count": 94,
      "outputs": [
        {
          "output_type": "stream",
          "name": "stdout",
          "text": [
            "['hook', 'uppercut', 'jab']\n"
          ]
        }
      ]
    }
  ]
}